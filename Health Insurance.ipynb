{
 "cells": [
  {
   "cell_type": "code",
   "execution_count": 1,
   "id": "ac1a2d84-d9b5-42d4-a76f-8dda6c58903f",
   "metadata": {},
   "outputs": [],
   "source": [
    "import matplotlib.pyplot as plt\n",
    "import numpy as np\n",
    "import pandas as pd\n",
    "import seaborn as sns\n",
    "from sklearn.model_selection import train_test_split"
   ]
  },
  {
   "cell_type": "code",
   "execution_count": 2,
   "id": "cf07d196-b147-451e-a037-18bb07eb7298",
   "metadata": {},
   "outputs": [],
   "source": [
    "df = pd.read_csv(\"D:/Stream Project Sem 6/insurance3r2.csv\")"
   ]
  },
  {
   "cell_type": "code",
   "execution_count": 3,
   "id": "05d84ec3-6349-47c5-8d87-145b411b9968",
   "metadata": {},
   "outputs": [
    {
     "data": {
      "text/html": [
       "<div>\n",
       "<style scoped>\n",
       "    .dataframe tbody tr th:only-of-type {\n",
       "        vertical-align: middle;\n",
       "    }\n",
       "\n",
       "    .dataframe tbody tr th {\n",
       "        vertical-align: top;\n",
       "    }\n",
       "\n",
       "    .dataframe thead th {\n",
       "        text-align: right;\n",
       "    }\n",
       "</style>\n",
       "<table border=\"1\" class=\"dataframe\">\n",
       "  <thead>\n",
       "    <tr style=\"text-align: right;\">\n",
       "      <th></th>\n",
       "      <th>age</th>\n",
       "      <th>sex</th>\n",
       "      <th>bmi</th>\n",
       "      <th>steps</th>\n",
       "      <th>children</th>\n",
       "      <th>smoker</th>\n",
       "      <th>region</th>\n",
       "      <th>charges</th>\n",
       "      <th>insuranceclaim</th>\n",
       "    </tr>\n",
       "  </thead>\n",
       "  <tbody>\n",
       "    <tr>\n",
       "      <th>0</th>\n",
       "      <td>19</td>\n",
       "      <td>0</td>\n",
       "      <td>27.900</td>\n",
       "      <td>3009</td>\n",
       "      <td>0</td>\n",
       "      <td>1</td>\n",
       "      <td>3</td>\n",
       "      <td>16884.92400</td>\n",
       "      <td>1</td>\n",
       "    </tr>\n",
       "    <tr>\n",
       "      <th>1</th>\n",
       "      <td>18</td>\n",
       "      <td>1</td>\n",
       "      <td>33.770</td>\n",
       "      <td>3008</td>\n",
       "      <td>1</td>\n",
       "      <td>0</td>\n",
       "      <td>2</td>\n",
       "      <td>1725.55230</td>\n",
       "      <td>1</td>\n",
       "    </tr>\n",
       "    <tr>\n",
       "      <th>2</th>\n",
       "      <td>28</td>\n",
       "      <td>1</td>\n",
       "      <td>33.000</td>\n",
       "      <td>3009</td>\n",
       "      <td>3</td>\n",
       "      <td>0</td>\n",
       "      <td>2</td>\n",
       "      <td>4449.46200</td>\n",
       "      <td>0</td>\n",
       "    </tr>\n",
       "    <tr>\n",
       "      <th>3</th>\n",
       "      <td>33</td>\n",
       "      <td>1</td>\n",
       "      <td>22.705</td>\n",
       "      <td>10009</td>\n",
       "      <td>0</td>\n",
       "      <td>0</td>\n",
       "      <td>1</td>\n",
       "      <td>21984.47061</td>\n",
       "      <td>0</td>\n",
       "    </tr>\n",
       "    <tr>\n",
       "      <th>4</th>\n",
       "      <td>32</td>\n",
       "      <td>1</td>\n",
       "      <td>28.880</td>\n",
       "      <td>8010</td>\n",
       "      <td>0</td>\n",
       "      <td>0</td>\n",
       "      <td>1</td>\n",
       "      <td>3866.85520</td>\n",
       "      <td>1</td>\n",
       "    </tr>\n",
       "  </tbody>\n",
       "</table>\n",
       "</div>"
      ],
      "text/plain": [
       "   age  sex     bmi  steps  children  smoker  region      charges  \\\n",
       "0   19    0  27.900   3009         0       1       3  16884.92400   \n",
       "1   18    1  33.770   3008         1       0       2   1725.55230   \n",
       "2   28    1  33.000   3009         3       0       2   4449.46200   \n",
       "3   33    1  22.705  10009         0       0       1  21984.47061   \n",
       "4   32    1  28.880   8010         0       0       1   3866.85520   \n",
       "\n",
       "   insuranceclaim  \n",
       "0               1  \n",
       "1               1  \n",
       "2               0  \n",
       "3               0  \n",
       "4               1  "
      ]
     },
     "execution_count": 3,
     "metadata": {},
     "output_type": "execute_result"
    }
   ],
   "source": [
    "df.head()"
   ]
  },
  {
   "cell_type": "code",
   "execution_count": 4,
   "id": "d880443e-a981-46af-8986-fa3ee97fd110",
   "metadata": {},
   "outputs": [
    {
     "data": {
      "text/html": [
       "<div>\n",
       "<style scoped>\n",
       "    .dataframe tbody tr th:only-of-type {\n",
       "        vertical-align: middle;\n",
       "    }\n",
       "\n",
       "    .dataframe tbody tr th {\n",
       "        vertical-align: top;\n",
       "    }\n",
       "\n",
       "    .dataframe thead th {\n",
       "        text-align: right;\n",
       "    }\n",
       "</style>\n",
       "<table border=\"1\" class=\"dataframe\">\n",
       "  <thead>\n",
       "    <tr style=\"text-align: right;\">\n",
       "      <th></th>\n",
       "      <th>age</th>\n",
       "      <th>sex</th>\n",
       "      <th>bmi</th>\n",
       "      <th>steps</th>\n",
       "      <th>children</th>\n",
       "      <th>smoker</th>\n",
       "      <th>region</th>\n",
       "      <th>charges</th>\n",
       "      <th>insuranceclaim</th>\n",
       "    </tr>\n",
       "  </thead>\n",
       "  <tbody>\n",
       "    <tr>\n",
       "      <th>count</th>\n",
       "      <td>1338.000000</td>\n",
       "      <td>1338.000000</td>\n",
       "      <td>1338.000000</td>\n",
       "      <td>1338.000000</td>\n",
       "      <td>1338.000000</td>\n",
       "      <td>1338.000000</td>\n",
       "      <td>1338.000000</td>\n",
       "      <td>1338.000000</td>\n",
       "      <td>1338.000000</td>\n",
       "    </tr>\n",
       "    <tr>\n",
       "      <th>mean</th>\n",
       "      <td>39.207025</td>\n",
       "      <td>0.505232</td>\n",
       "      <td>30.663397</td>\n",
       "      <td>5328.623318</td>\n",
       "      <td>1.094918</td>\n",
       "      <td>0.204783</td>\n",
       "      <td>1.515695</td>\n",
       "      <td>13270.422265</td>\n",
       "      <td>0.585202</td>\n",
       "    </tr>\n",
       "    <tr>\n",
       "      <th>std</th>\n",
       "      <td>14.049960</td>\n",
       "      <td>0.500160</td>\n",
       "      <td>6.098187</td>\n",
       "      <td>2453.643236</td>\n",
       "      <td>1.205493</td>\n",
       "      <td>0.403694</td>\n",
       "      <td>1.104885</td>\n",
       "      <td>12110.011237</td>\n",
       "      <td>0.492871</td>\n",
       "    </tr>\n",
       "    <tr>\n",
       "      <th>min</th>\n",
       "      <td>18.000000</td>\n",
       "      <td>0.000000</td>\n",
       "      <td>15.960000</td>\n",
       "      <td>3000.000000</td>\n",
       "      <td>0.000000</td>\n",
       "      <td>0.000000</td>\n",
       "      <td>0.000000</td>\n",
       "      <td>1121.873900</td>\n",
       "      <td>0.000000</td>\n",
       "    </tr>\n",
       "    <tr>\n",
       "      <th>25%</th>\n",
       "      <td>27.000000</td>\n",
       "      <td>0.000000</td>\n",
       "      <td>26.296250</td>\n",
       "      <td>3008.000000</td>\n",
       "      <td>0.000000</td>\n",
       "      <td>0.000000</td>\n",
       "      <td>1.000000</td>\n",
       "      <td>4740.287150</td>\n",
       "      <td>0.000000</td>\n",
       "    </tr>\n",
       "    <tr>\n",
       "      <th>50%</th>\n",
       "      <td>39.000000</td>\n",
       "      <td>1.000000</td>\n",
       "      <td>30.400000</td>\n",
       "      <td>4007.000000</td>\n",
       "      <td>1.000000</td>\n",
       "      <td>0.000000</td>\n",
       "      <td>2.000000</td>\n",
       "      <td>9382.033000</td>\n",
       "      <td>1.000000</td>\n",
       "    </tr>\n",
       "    <tr>\n",
       "      <th>75%</th>\n",
       "      <td>51.000000</td>\n",
       "      <td>1.000000</td>\n",
       "      <td>34.693750</td>\n",
       "      <td>8004.000000</td>\n",
       "      <td>2.000000</td>\n",
       "      <td>0.000000</td>\n",
       "      <td>2.000000</td>\n",
       "      <td>16639.912515</td>\n",
       "      <td>1.000000</td>\n",
       "    </tr>\n",
       "    <tr>\n",
       "      <th>max</th>\n",
       "      <td>64.000000</td>\n",
       "      <td>1.000000</td>\n",
       "      <td>53.130000</td>\n",
       "      <td>10010.000000</td>\n",
       "      <td>5.000000</td>\n",
       "      <td>1.000000</td>\n",
       "      <td>3.000000</td>\n",
       "      <td>63770.428010</td>\n",
       "      <td>1.000000</td>\n",
       "    </tr>\n",
       "  </tbody>\n",
       "</table>\n",
       "</div>"
      ],
      "text/plain": [
       "               age          sex          bmi         steps     children  \\\n",
       "count  1338.000000  1338.000000  1338.000000   1338.000000  1338.000000   \n",
       "mean     39.207025     0.505232    30.663397   5328.623318     1.094918   \n",
       "std      14.049960     0.500160     6.098187   2453.643236     1.205493   \n",
       "min      18.000000     0.000000    15.960000   3000.000000     0.000000   \n",
       "25%      27.000000     0.000000    26.296250   3008.000000     0.000000   \n",
       "50%      39.000000     1.000000    30.400000   4007.000000     1.000000   \n",
       "75%      51.000000     1.000000    34.693750   8004.000000     2.000000   \n",
       "max      64.000000     1.000000    53.130000  10010.000000     5.000000   \n",
       "\n",
       "            smoker       region       charges  insuranceclaim  \n",
       "count  1338.000000  1338.000000   1338.000000     1338.000000  \n",
       "mean      0.204783     1.515695  13270.422265        0.585202  \n",
       "std       0.403694     1.104885  12110.011237        0.492871  \n",
       "min       0.000000     0.000000   1121.873900        0.000000  \n",
       "25%       0.000000     1.000000   4740.287150        0.000000  \n",
       "50%       0.000000     2.000000   9382.033000        1.000000  \n",
       "75%       0.000000     2.000000  16639.912515        1.000000  \n",
       "max       1.000000     3.000000  63770.428010        1.000000  "
      ]
     },
     "execution_count": 4,
     "metadata": {},
     "output_type": "execute_result"
    }
   ],
   "source": [
    "df.describe()"
   ]
  },
  {
   "cell_type": "code",
   "execution_count": 5,
   "id": "3269d341-1511-4eda-b9bc-3e263f810b1f",
   "metadata": {},
   "outputs": [
    {
     "name": "stdout",
     "output_type": "stream",
     "text": [
      "<class 'pandas.core.frame.DataFrame'>\n",
      "RangeIndex: 1338 entries, 0 to 1337\n",
      "Data columns (total 9 columns):\n",
      " #   Column          Non-Null Count  Dtype  \n",
      "---  ------          --------------  -----  \n",
      " 0   age             1338 non-null   int64  \n",
      " 1   sex             1338 non-null   int64  \n",
      " 2   bmi             1338 non-null   float64\n",
      " 3   steps           1338 non-null   int64  \n",
      " 4   children        1338 non-null   int64  \n",
      " 5   smoker          1338 non-null   int64  \n",
      " 6   region          1338 non-null   int64  \n",
      " 7   charges         1338 non-null   float64\n",
      " 8   insuranceclaim  1338 non-null   int64  \n",
      "dtypes: float64(2), int64(7)\n",
      "memory usage: 94.2 KB\n"
     ]
    }
   ],
   "source": [
    "df.info()"
   ]
  },
  {
   "cell_type": "markdown",
   "id": "73f6013c-51cd-4893-9dd8-b2c0739dfe2a",
   "metadata": {},
   "source": [
    "### No missing values in the dataset"
   ]
  },
  {
   "cell_type": "code",
   "execution_count": 6,
   "id": "48bf2a10-1dca-4c98-b9e7-b0c7d9849fc3",
   "metadata": {},
   "outputs": [
    {
     "data": {
      "text/plain": [
       "Index(['age', 'sex', 'bmi', 'steps', 'children', 'smoker', 'region', 'charges',\n",
       "       'insuranceclaim'],\n",
       "      dtype='object')"
      ]
     },
     "execution_count": 6,
     "metadata": {},
     "output_type": "execute_result"
    }
   ],
   "source": [
    "df.columns"
   ]
  },
  {
   "cell_type": "code",
   "execution_count": 7,
   "id": "f1ce9cbe-157f-48e4-9050-bc94cb1ea36f",
   "metadata": {},
   "outputs": [],
   "source": [
    "l = ['sex' , 'smoker' , 'region' , 'insuranceclaim']"
   ]
  },
  {
   "cell_type": "code",
   "execution_count": 8,
   "id": "915c8404-210a-4b62-9a1b-0922e1e1ee37",
   "metadata": {},
   "outputs": [],
   "source": [
    "for i in l:\n",
    "          df['{}'.format(i)] = pd.Categorical(df['{}'.format(i)])"
   ]
  },
  {
   "cell_type": "code",
   "execution_count": 9,
   "id": "7da910a1-852c-44a8-beed-047a5a577de5",
   "metadata": {},
   "outputs": [],
   "source": [
    "#df.info()"
   ]
  },
  {
   "cell_type": "code",
   "execution_count": 10,
   "id": "e607f680-bfac-4f46-8d1c-d3bb988b644a",
   "metadata": {},
   "outputs": [
    {
     "data": {
      "text/plain": [
       "<AxesSubplot:xlabel='bmi', ylabel='Count'>"
      ]
     },
     "execution_count": 10,
     "metadata": {},
     "output_type": "execute_result"
    },
    {
     "data": {
      "image/png": "[encoded data removed]",
      "text/plain": [
       "<Figure size 432x288 with 1 Axes>"
      ]
     },
     "metadata": {
      "needs_background": "light"
     },
     "output_type": "display_data"
    }
   ],
   "source": [
    "sns.histplot(x='bmi',hue='insuranceclaim',data=df, binwidth = 5)"
   ]
  },
  {
   "cell_type": "code",
   "execution_count": 11,
   "id": "786780ac-fb72-4ace-9816-9ad4e22e3a32",
   "metadata": {},
   "outputs": [
    {
     "data": {
      "text/plain": [
       "<AxesSubplot:xlabel='age', ylabel='Count'>"
      ]
     },
     "execution_count": 11,
     "metadata": {},
     "output_type": "execute_result"
    },
    {
     "data": {
      "image/png": "[encoded data removed]",
      "text/plain": [
       "<Figure size 432x288 with 1 Axes>"
      ]
     },
     "metadata": {
      "needs_background": "light"
     },
     "output_type": "display_data"
    }
   ],
   "source": [
    "sns.histplot(x='age',hue='insuranceclaim',data=df, binwidth = 10)"
   ]
  },
  {
   "cell_type": "code",
   "execution_count": 12,
   "id": "321dd7ae-c40d-4648-bf7a-6ec5051495ae",
   "metadata": {},
   "outputs": [
    {
     "data": {
      "text/plain": [
       "<AxesSubplot:xlabel='smoker', ylabel='count'>"
      ]
     },
     "execution_count": 12,
     "metadata": {},
     "output_type": "execute_result"
    },
    {
     "data": {
      "image/png": "[encoded data removed]",
      "text/plain": [
       "<Figure size 432x288 with 1 Axes>"
      ]
     },
     "metadata": {
      "needs_background": "light"
     },
     "output_type": "display_data"
    }
   ],
   "source": [
    "sns.countplot(x='smoker',hue='insuranceclaim',data=df)"
   ]
  },
  {
   "cell_type": "code",
   "execution_count": 13,
   "id": "2f716ade-5d27-41b3-acba-82ea0929c935",
   "metadata": {},
   "outputs": [
    {
     "data": {
      "text/plain": [
       "<AxesSubplot:xlabel='smoker', ylabel='count'>"
      ]
     },
     "execution_count": 13,
     "metadata": {},
     "output_type": "execute_result"
    },
    {
     "data": {
      "image/png": "[encoded data removed]",
      "text/plain": [
       "<Figure size 432x288 with 1 Axes>"
      ]
     },
     "metadata": {
      "needs_background": "light"
     },
     "output_type": "display_data"
    }
   ],
   "source": [
    "sns.countplot(x='smoker',hue='insuranceclaim',data=df[df.sex == 0])"
   ]
  },
  {
   "cell_type": "code",
   "execution_count": 14,
   "id": "e069156d-bcd8-45d6-94e6-14736af5a6bc",
   "metadata": {},
   "outputs": [
    {
     "data": {
      "text/plain": [
       "<AxesSubplot:xlabel='smoker', ylabel='count'>"
      ]
     },
     "execution_count": 14,
     "metadata": {},
     "output_type": "execute_result"
    },
    {
     "data": {
      "image/png": "[encoded data removed]",
      "text/plain": [
       "<Figure size 432x288 with 1 Axes>"
      ]
     },
     "metadata": {
      "needs_background": "light"
     },
     "output_type": "display_data"
    }
   ],
   "source": [
    "sns.countplot(x='smoker',hue='insuranceclaim',data=df[df.sex == 1])"
   ]
  },
  {
   "cell_type": "code",
   "execution_count": 15,
   "id": "2c39d495-05fc-49a7-b68b-173dee33e31f",
   "metadata": {},
   "outputs": [
    {
     "data": {
      "text/plain": [
       "<AxesSubplot:xlabel='charges', ylabel='Count'>"
      ]
     },
     "execution_count": 15,
     "metadata": {},
     "output_type": "execute_result"
    },
    {
     "data": {
      "image/png": "[encoded data removed]",
      "text/plain": [
       "<Figure size 432x288 with 1 Axes>"
      ]
     },
     "metadata": {
      "needs_background": "light"
     },
     "output_type": "display_data"
    }
   ],
   "source": [
    "sns.histplot(x='charges',hue='insuranceclaim',data=df)"
   ]
  },
  {
   "cell_type": "code",
   "execution_count": 16,
   "id": "5796a392-ed8f-4590-b141-53d92ebdcaef",
   "metadata": {},
   "outputs": [
    {
     "data": {
      "text/plain": [
       "<AxesSubplot:xlabel='steps', ylabel='Count'>"
      ]
     },
     "execution_count": 16,
     "metadata": {},
     "output_type": "execute_result"
    },
    {
     "data": {
      "image/png": "[encoded data removed]",
      "text/plain": [
       "<Figure size 432x288 with 1 Axes>"
      ]
     },
     "metadata": {
      "needs_background": "light"
     },
     "output_type": "display_data"
    }
   ],
   "source": [
    "sns.histplot(x='steps',hue='insuranceclaim',data=df)"
   ]
  },
  {
   "cell_type": "code",
   "execution_count": 17,
   "id": "4a134f4c-e5bd-408a-bdec-83067aa611dd",
   "metadata": {},
   "outputs": [
    {
     "data": {
      "text/plain": [
       "<AxesSubplot:xlabel='children', ylabel='count'>"
      ]
     },
     "execution_count": 17,
     "metadata": {},
     "output_type": "execute_result"
    },
    {
     "data": {
      "image/png": "[encoded data removed]",
      "text/plain": [
       "<Figure size 432x288 with 1 Axes>"
      ]
     },
     "metadata": {
      "needs_background": "light"
     },
     "output_type": "display_data"
    }
   ],
   "source": [
    "sns.countplot(x='children',hue='insuranceclaim',data=df[df.sex == 1])"
   ]
  },
  {
   "cell_type": "code",
   "execution_count": 18,
   "id": "488c87a4-8233-4f6c-b56b-22e4bf4df047",
   "metadata": {},
   "outputs": [],
   "source": [
    "from sklearn.metrics import precision_score\n",
    "from sklearn.metrics import recall_score\n",
    "from sklearn.metrics import f1_score\n",
    "from sklearn.metrics import accuracy_score"
   ]
  },
  {
   "cell_type": "code",
   "execution_count": 19,
   "id": "5f57fab1-7877-45f2-963e-67090bdaf32f",
   "metadata": {},
   "outputs": [],
   "source": [
    "X  = df.drop(\"insuranceclaim\",axis = 1)\n",
    "Y = df['insuranceclaim']"
   ]
  },
  {
   "cell_type": "code",
   "execution_count": 20,
   "id": "5741f28d-47bf-4b02-91fb-f6240f722ba0",
   "metadata": {},
   "outputs": [],
   "source": [
    "#X.head()\n",
    "#y.head()"
   ]
  },
  {
   "cell_type": "code",
   "execution_count": 21,
   "id": "033ea8b6-ead3-4e72-a08b-c9f3270c1e8d",
   "metadata": {},
   "outputs": [],
   "source": [
    "def scores(test, pred):\n",
    "    precision = precision_score(test, pred)\n",
    "    recall = recall_score(test, pred)\n",
    "    f1 = f1_score(test, pred)\n",
    "    accuracy = accuracy_score(test, pred)\n",
    "    d = {}\n",
    "    d['Precision']=precision\n",
    "    d['Recall']=recall\n",
    "    d['F1 Score'] = f1\n",
    "    d['Accuracy'] = accuracy\n",
    "    return(d)\n",
    "    "
   ]
  },
  {
   "cell_type": "markdown",
   "id": "48e97c29-070b-430d-b54e-40ef29399b2d",
   "metadata": {},
   "source": [
    "### Logistic Regression"
   ]
  },
  {
   "cell_type": "code",
   "execution_count": 22,
   "id": "67d36e7d-0f0f-40e6-a8a8-14ed6c7be45b",
   "metadata": {},
   "outputs": [
    {
     "data": {
      "text/plain": [
       "LogisticRegression(max_iter=300, random_state=0)"
      ]
     },
     "execution_count": 22,
     "metadata": {},
     "output_type": "execute_result"
    }
   ],
   "source": [
    "from sklearn.linear_model import LogisticRegression\n",
    "X_train, X_test, Y_train, Y_test = train_test_split(X, Y, random_state=0)\n",
    "classifier = LogisticRegression(solver='lbfgs',random_state=0, max_iter=300)\n",
    "classifier.fit(X_train, Y_train)"
   ]
  },
  {
   "cell_type": "code",
   "execution_count": 24,
   "id": "126dcd33-ce7b-40f3-a2f0-eb6fc9b9612d",
   "metadata": {},
   "outputs": [
    {
     "data": {
      "text/plain": [
       "{'Precision': 0.8520408163265306,\n",
       " 'Recall': 0.8978494623655914,\n",
       " 'F1 Score': 0.87434554973822,\n",
       " 'Accuracy': 0.8567164179104477}"
      ]
     },
     "execution_count": 24,
     "metadata": {},
     "output_type": "execute_result"
    }
   ],
   "source": [
    "Y_pred = classifier.predict(X_test)\n",
    "scores(Y_test, Y_pred)"
   ]
  },
  {
   "cell_type": "code",
   "execution_count": 25,
   "id": "a1788fd7-6714-495b-afa2-2563c5e7693d",
   "metadata": {},
   "outputs": [],
   "source": [
    "LR = scores(Y_test, Y_pred)"
   ]
  },
  {
   "cell_type": "code",
   "execution_count": 26,
   "id": "21282589-c8f5-4aa0-9e82-dfbd0ff3decd",
   "metadata": {},
   "outputs": [
    {
     "data": {
      "text/plain": [
       "{'Precision': 0.8520408163265306,\n",
       " 'Recall': 0.8978494623655914,\n",
       " 'F1 Score': 0.87434554973822,\n",
       " 'Accuracy': 0.8567164179104477}"
      ]
     },
     "execution_count": 26,
     "metadata": {},
     "output_type": "execute_result"
    }
   ],
   "source": [
    "LR"
   ]
  },
  {
   "cell_type": "markdown",
   "id": "f5b4e638-fef1-4b5b-83f5-d0e345acd128",
   "metadata": {},
   "source": [
    "### Random Forest"
   ]
  },
  {
   "cell_type": "code",
   "execution_count": 27,
   "id": "33d2dd4b-16d1-4ac6-adb9-a8e281ad1c38",
   "metadata": {},
   "outputs": [
    {
     "data": {
      "text/plain": [
       "RandomForestClassifier(random_state=0)"
      ]
     },
     "execution_count": 27,
     "metadata": {},
     "output_type": "execute_result"
    }
   ],
   "source": [
    "from sklearn.ensemble import RandomForestClassifier\n",
    "model = RandomForestClassifier(n_estimators=100, random_state = 0)\n",
    "model.fit(X_train, Y_train)"
   ]
  },
  {
   "cell_type": "code",
   "execution_count": 28,
   "id": "84e69858-16fe-403a-84e6-c9917cbd87b1",
   "metadata": {},
   "outputs": [],
   "source": [
    "Y_pred = model.predict(X_test)"
   ]
  },
  {
   "cell_type": "code",
   "execution_count": 29,
   "id": "216b0c3d-6579-467a-9405-abfdb76ac8fb",
   "metadata": {},
   "outputs": [],
   "source": [
    "RF = scores(Y_test, Y_pred)"
   ]
  },
  {
   "cell_type": "code",
   "execution_count": 30,
   "id": "12708c7d-da2f-46cc-9d1e-a8869cf092b5",
   "metadata": {},
   "outputs": [
    {
     "data": {
      "text/plain": [
       "{'Precision': 0.9840425531914894,\n",
       " 'Recall': 0.9946236559139785,\n",
       " 'F1 Score': 0.9893048128342246,\n",
       " 'Accuracy': 0.9880597014925373}"
      ]
     },
     "execution_count": 30,
     "metadata": {},
     "output_type": "execute_result"
    }
   ],
   "source": [
    "RF"
   ]
  },
  {
   "cell_type": "markdown",
   "id": "eff515aa-3636-4a1d-98b2-23d897ac696d",
   "metadata": {},
   "source": [
    "### Decision Tree"
   ]
  },
  {
   "cell_type": "code",
   "execution_count": 31,
   "id": "04b05e89-c76e-4618-8883-0186caa53d0f",
   "metadata": {},
   "outputs": [
    {
     "data": {
      "text/plain": [
       "DecisionTreeClassifier(random_state=0)"
      ]
     },
     "execution_count": 31,
     "metadata": {},
     "output_type": "execute_result"
    }
   ],
   "source": [
    "from sklearn.tree import DecisionTreeClassifier\n",
    "model = DecisionTreeClassifier(random_state = 0)\n",
    "model.fit(X_train, Y_train)"
   ]
  },
  {
   "cell_type": "code",
   "execution_count": 32,
   "id": "f354006a-3774-43ed-aa9a-da829e7ecae8",
   "metadata": {},
   "outputs": [],
   "source": [
    "Y_pred = model.predict(X_test)\n",
    "DT = scores(Y_test, Y_pred)"
   ]
  },
  {
   "cell_type": "code",
   "execution_count": 33,
   "id": "1b18ccc3-441c-4722-b58e-378755cd469a",
   "metadata": {},
   "outputs": [
    {
     "data": {
      "text/plain": [
       "{'Precision': 0.9946524064171123,\n",
       " 'Recall': 1.0,\n",
       " 'F1 Score': 0.9973190348525469,\n",
       " 'Accuracy': 0.9970149253731343}"
      ]
     },
     "execution_count": 33,
     "metadata": {},
     "output_type": "execute_result"
    }
   ],
   "source": [
    "DT"
   ]
  },
  {
   "cell_type": "markdown",
   "id": "0605e586-fd58-42e1-8272-89ea827018ad",
   "metadata": {},
   "source": [
    "### Support Vector Machine"
   ]
  },
  {
   "cell_type": "code",
   "execution_count": 34,
   "id": "3b9c535c-ad1f-467e-9bf9-18b0c137fbfd",
   "metadata": {},
   "outputs": [
    {
     "data": {
      "text/plain": [
       "SVC()"
      ]
     },
     "execution_count": 34,
     "metadata": {},
     "output_type": "execute_result"
    }
   ],
   "source": [
    "from sklearn.svm import SVC\n",
    "clf = SVC(kernel='rbf')\n",
    "clf.fit(X_train, Y_train)"
   ]
  },
  {
   "cell_type": "code",
   "execution_count": 35,
   "id": "8b6d7e6c-a454-49f5-a6aa-9d3c04315537",
   "metadata": {},
   "outputs": [],
   "source": [
    "Y_pred = clf.predict(X_test)\n",
    "SV = scores(Y_test, Y_pred)"
   ]
  },
  {
   "cell_type": "code",
   "execution_count": 36,
   "id": "91e0e249-fe00-405c-b0ff-4230b125ffe4",
   "metadata": {},
   "outputs": [
    {
     "data": {
      "text/plain": [
       "{'Precision': 0.6835443037974683,\n",
       " 'Recall': 0.8709677419354839,\n",
       " 'F1 Score': 0.7659574468085106,\n",
       " 'Accuracy': 0.7044776119402985}"
      ]
     },
     "execution_count": 36,
     "metadata": {},
     "output_type": "execute_result"
    }
   ],
   "source": [
    "SV"
   ]
  },
  {
   "cell_type": "markdown",
   "id": "3245483f-c801-44de-9ca8-d60a89b22505",
   "metadata": {},
   "source": [
    "### Gaussian NB"
   ]
  },
  {
   "cell_type": "code",
   "execution_count": 37,
   "id": "cc344adf-1ab4-48b5-8d5d-e3e130674fe3",
   "metadata": {},
   "outputs": [
    {
     "data": {
      "text/plain": [
       "GaussianNB()"
      ]
     },
     "execution_count": 37,
     "metadata": {},
     "output_type": "execute_result"
    }
   ],
   "source": [
    "from sklearn.naive_bayes import GaussianNB\n",
    "clf = GaussianNB()\n",
    "clf.fit(X_train, Y_train)"
   ]
  },
  {
   "cell_type": "code",
   "execution_count": 38,
   "id": "8b7ac017-92cc-4310-b2e0-9625772becd2",
   "metadata": {},
   "outputs": [],
   "source": [
    "Y_pred = clf.predict(X_test)\n",
    "GNB = scores(Y_test, Y_pred)"
   ]
  },
  {
   "cell_type": "code",
   "execution_count": 39,
   "id": "65caa631-fe1d-4ad4-babc-2f550b14cdfb",
   "metadata": {},
   "outputs": [
    {
     "data": {
      "text/plain": [
       "{'Precision': 0.8648648648648649,\n",
       " 'Recall': 0.8602150537634409,\n",
       " 'F1 Score': 0.8625336927223719,\n",
       " 'Accuracy': 0.8477611940298507}"
      ]
     },
     "execution_count": 39,
     "metadata": {},
     "output_type": "execute_result"
    }
   ],
   "source": [
    "GNB"
   ]
  },
  {
   "cell_type": "markdown",
   "id": "6fe35cf4-f319-4739-bbf8-dcbc71c4e39e",
   "metadata": {},
   "source": [
    "### Bernoulli NB"
   ]
  },
  {
   "cell_type": "code",
   "execution_count": 40,
   "id": "5ffeebdf-e853-4606-9f9e-d02b5f82692d",
   "metadata": {},
   "outputs": [
    {
     "data": {
      "text/plain": [
       "BernoulliNB()"
      ]
     },
     "execution_count": 40,
     "metadata": {},
     "output_type": "execute_result"
    }
   ],
   "source": [
    "from sklearn.naive_bayes import BernoulliNB\n",
    "clf = BernoulliNB()\n",
    "clf.fit(X_train, Y_train)"
   ]
  },
  {
   "cell_type": "code",
   "execution_count": 41,
   "id": "05eee0e5-b39a-4008-92ed-04ead82b6c70",
   "metadata": {},
   "outputs": [],
   "source": [
    "Y_pred = clf.predict(X_test)\n",
    "BNB = scores(Y_test, Y_pred)"
   ]
  },
  {
   "cell_type": "code",
   "execution_count": 42,
   "id": "63d45a51-9b34-4e1a-b01d-4f5bfafd2628",
   "metadata": {},
   "outputs": [
    {
     "data": {
      "text/plain": [
       "{'Precision': 0.8092485549132948,\n",
       " 'Recall': 0.7526881720430108,\n",
       " 'F1 Score': 0.7799442896935933,\n",
       " 'Accuracy': 0.764179104477612}"
      ]
     },
     "execution_count": 42,
     "metadata": {},
     "output_type": "execute_result"
    }
   ],
   "source": [
    "BNB"
   ]
  },
  {
   "cell_type": "markdown",
   "id": "d4fe7cce-1bfc-49da-b186-823a56a244a4",
   "metadata": {},
   "source": [
    "### Mixed Naive Bayes"
   ]
  },
  {
   "cell_type": "code",
   "execution_count": 43,
   "id": "4a6d530b-cebc-4cd1-88d7-cf9a65633a8e",
   "metadata": {},
   "outputs": [
    {
     "name": "stdout",
     "output_type": "stream",
     "text": [
      "[]\n"
     ]
    },
    {
     "data": {
      "text/plain": [
       "MixedNB(alpha=0.5, var_smoothing=1e-09)"
      ]
     },
     "execution_count": 43,
     "metadata": {},
     "output_type": "execute_result"
    }
   ],
   "source": [
    "from mixed_naive_bayes import MixedNB\n",
    "clf = MixedNB()\n",
    "clf.fit(X_train, Y_train)"
   ]
  },
  {
   "cell_type": "code",
   "execution_count": 44,
   "id": "10968fde-f676-4f9c-9955-ded8f731257c",
   "metadata": {},
   "outputs": [],
   "source": [
    "Y_pred = clf.predict(X_test)\n",
    "MNB = scores(Y_test, Y_pred)"
   ]
  },
  {
   "cell_type": "code",
   "execution_count": 45,
   "id": "114e05cb-fccd-467a-8f37-b37c433fb4bf",
   "metadata": {},
   "outputs": [
    {
     "data": {
      "text/plain": [
       "{'Precision': 0.8648648648648649,\n",
       " 'Recall': 0.8602150537634409,\n",
       " 'F1 Score': 0.8625336927223719,\n",
       " 'Accuracy': 0.8477611940298507}"
      ]
     },
     "execution_count": 45,
     "metadata": {},
     "output_type": "execute_result"
    }
   ],
   "source": [
    "MNB"
   ]
  },
  {
   "cell_type": "markdown",
   "id": "97510b35-833c-4eac-bc24-653e67ef29b2",
   "metadata": {},
   "source": [
    "### K-Nearest Neighbors"
   ]
  },
  {
   "cell_type": "code",
   "execution_count": 46,
   "id": "0ef8918d-e4bd-4d37-91e2-3838b1df8890",
   "metadata": {},
   "outputs": [
    {
     "data": {
      "text/plain": [
       "KNeighborsClassifier(p=1)"
      ]
     },
     "execution_count": 46,
     "metadata": {},
     "output_type": "execute_result"
    }
   ],
   "source": [
    "from sklearn.neighbors import KNeighborsClassifier\n",
    "clf = KNeighborsClassifier(p=1,  n_neighbors= 5)\n",
    "clf.fit(X_train, Y_train)"
   ]
  },
  {
   "cell_type": "code",
   "execution_count": 47,
   "id": "8c4cfb20-7ddd-43b2-8262-7fe253208663",
   "metadata": {},
   "outputs": [],
   "source": [
    "Y_pred = clf.predict(X_test)\n",
    "KNN = scores(Y_test, Y_pred)"
   ]
  },
  {
   "cell_type": "code",
   "execution_count": 48,
   "id": "8e8e66d0-6386-4ff0-87bd-965b559862eb",
   "metadata": {},
   "outputs": [
    {
     "data": {
      "text/plain": [
       "{'Precision': 0.6851851851851852,\n",
       " 'Recall': 0.7956989247311828,\n",
       " 'F1 Score': 0.736318407960199,\n",
       " 'Accuracy': 0.6835820895522388}"
      ]
     },
     "execution_count": 48,
     "metadata": {},
     "output_type": "execute_result"
    }
   ],
   "source": [
    "KNN"
   ]
  },
  {
   "cell_type": "code",
   "execution_count": 49,
   "id": "e0f909b5-f150-481c-b514-41e5f3c414c5",
   "metadata": {},
   "outputs": [],
   "source": [
    "Columns = ['Logistic Regression' , 'Random Forest' , 'Decision Tree' , 'SVM' , 'Gaussian NB' , 'Bernoulli NB' , 'Mixed NB' , 'K-Nearest Neighbor']"
   ]
  },
  {
   "cell_type": "code",
   "execution_count": 50,
   "id": "4266072f-7c00-4269-9951-e15772448c83",
   "metadata": {},
   "outputs": [],
   "source": [
    "ind = ['Precision' , 'Recall' , 'F1 Score' , 'Accuracy']"
   ]
  },
  {
   "cell_type": "code",
   "execution_count": 51,
   "id": "b259b701-217e-40c8-9517-9ba7a6d280e8",
   "metadata": {},
   "outputs": [],
   "source": [
    "results1 = pd.DataFrame(index = ind, columns = Columns)"
   ]
  },
  {
   "cell_type": "code",
   "execution_count": 52,
   "id": "20adcb9f-98e0-45f0-9266-19ba257d9049",
   "metadata": {},
   "outputs": [],
   "source": [
    "#results"
   ]
  },
  {
   "cell_type": "code",
   "execution_count": 53,
   "id": "3161d4b3-57a1-40d1-baee-28eb1ac99d18",
   "metadata": {},
   "outputs": [],
   "source": [
    "results1['Logistic Regression'] = LR.values()\n",
    "results1['Random Forest'] = RF.values()\n",
    "results1['Decision Tree'] = DT.values()\n",
    "results1['SVM'] = SV.values()\n",
    "results1['Gaussian NB'] = GNB.values()\n",
    "results1['Bernoulli NB'] = BNB.values()\n",
    "results1['Mixed NB'] = MNB.values()\n",
    "results1['K-Nearest Neighbor'] = KNN.values()"
   ]
  },
  {
   "cell_type": "code",
   "execution_count": 54,
   "id": "aea58e72-5f49-486e-8274-adeb4a957220",
   "metadata": {},
   "outputs": [
    {
     "data": {
      "text/html": [
       "<div>\n",
       "<style scoped>\n",
       "    .dataframe tbody tr th:only-of-type {\n",
       "        vertical-align: middle;\n",
       "    }\n",
       "\n",
       "    .dataframe tbody tr th {\n",
       "        vertical-align: top;\n",
       "    }\n",
       "\n",
       "    .dataframe thead th {\n",
       "        text-align: right;\n",
       "    }\n",
       "</style>\n",
       "<table border=\"1\" class=\"dataframe\">\n",
       "  <thead>\n",
       "    <tr style=\"text-align: right;\">\n",
       "      <th></th>\n",
       "      <th>Logistic Regression</th>\n",
       "      <th>Random Forest</th>\n",
       "      <th>Decision Tree</th>\n",
       "      <th>SVM</th>\n",
       "      <th>Gaussian NB</th>\n",
       "      <th>Bernoulli NB</th>\n",
       "      <th>Mixed NB</th>\n",
       "      <th>K-Nearest Neighbor</th>\n",
       "    </tr>\n",
       "  </thead>\n",
       "  <tbody>\n",
       "    <tr>\n",
       "      <th>Precision</th>\n",
       "      <td>0.852041</td>\n",
       "      <td>0.984043</td>\n",
       "      <td>0.994652</td>\n",
       "      <td>0.683544</td>\n",
       "      <td>0.864865</td>\n",
       "      <td>0.809249</td>\n",
       "      <td>0.864865</td>\n",
       "      <td>0.685185</td>\n",
       "    </tr>\n",
       "    <tr>\n",
       "      <th>Recall</th>\n",
       "      <td>0.897849</td>\n",
       "      <td>0.994624</td>\n",
       "      <td>1.000000</td>\n",
       "      <td>0.870968</td>\n",
       "      <td>0.860215</td>\n",
       "      <td>0.752688</td>\n",
       "      <td>0.860215</td>\n",
       "      <td>0.795699</td>\n",
       "    </tr>\n",
       "    <tr>\n",
       "      <th>F1 Score</th>\n",
       "      <td>0.874346</td>\n",
       "      <td>0.989305</td>\n",
       "      <td>0.997319</td>\n",
       "      <td>0.765957</td>\n",
       "      <td>0.862534</td>\n",
       "      <td>0.779944</td>\n",
       "      <td>0.862534</td>\n",
       "      <td>0.736318</td>\n",
       "    </tr>\n",
       "    <tr>\n",
       "      <th>Accuracy</th>\n",
       "      <td>0.856716</td>\n",
       "      <td>0.988060</td>\n",
       "      <td>0.997015</td>\n",
       "      <td>0.704478</td>\n",
       "      <td>0.847761</td>\n",
       "      <td>0.764179</td>\n",
       "      <td>0.847761</td>\n",
       "      <td>0.683582</td>\n",
       "    </tr>\n",
       "  </tbody>\n",
       "</table>\n",
       "</div>"
      ],
      "text/plain": [
       "           Logistic Regression  Random Forest  Decision Tree       SVM  \\\n",
       "Precision             0.852041       0.984043       0.994652  0.683544   \n",
       "Recall                0.897849       0.994624       1.000000  0.870968   \n",
       "F1 Score              0.874346       0.989305       0.997319  0.765957   \n",
       "Accuracy              0.856716       0.988060       0.997015  0.704478   \n",
       "\n",
       "           Gaussian NB  Bernoulli NB  Mixed NB  K-Nearest Neighbor  \n",
       "Precision     0.864865      0.809249  0.864865            0.685185  \n",
       "Recall        0.860215      0.752688  0.860215            0.795699  \n",
       "F1 Score      0.862534      0.779944  0.862534            0.736318  \n",
       "Accuracy      0.847761      0.764179  0.847761            0.683582  "
      ]
     },
     "execution_count": 54,
     "metadata": {},
     "output_type": "execute_result"
    }
   ],
   "source": [
    "results1"
   ]
  },
  {
   "cell_type": "markdown",
   "id": "6e64cea9-ebcd-4fe8-8919-ed19deac022e",
   "metadata": {},
   "source": [
    "### Chi Square Test For Feature Selection"
   ]
  },
  {
   "cell_type": "code",
   "execution_count": 55,
   "id": "5af64cc7-8bca-4aa3-9e71-3fff9f2471a0",
   "metadata": {},
   "outputs": [],
   "source": [
    "from sklearn.feature_selection import chi2\n",
    "X  = df.drop(\"insuranceclaim\",axis = 1)\n",
    "Y = df['insuranceclaim']"
   ]
  },
  {
   "cell_type": "code",
   "execution_count": 56,
   "id": "f2d76740-b9d5-4826-924b-306e7b39781b",
   "metadata": {},
   "outputs": [],
   "source": [
    "chi_scores = chi2(X,Y)"
   ]
  },
  {
   "cell_type": "code",
   "execution_count": 57,
   "id": "0ccbe6b7-5be4-4f2a-b663-4e6e84dd442d",
   "metadata": {},
   "outputs": [
    {
     "data": {
      "text/plain": [
       "(array([8.70584610e+01, 6.59594506e-01, 2.39343918e+02, 2.65846739e+05,\n",
       "        2.97606944e+02, 1.18170897e+02, 4.69993111e-01, 1.41457988e+06]),\n",
       " array([1.05360339e-20, 4.16703134e-01, 5.46715509e-54, 0.00000000e+00,\n",
       "        1.09432042e-66, 1.59074345e-27, 4.92990338e-01, 0.00000000e+00]))"
      ]
     },
     "execution_count": 57,
     "metadata": {},
     "output_type": "execute_result"
    }
   ],
   "source": [
    "chi_scores"
   ]
  },
  {
   "cell_type": "code",
   "execution_count": 58,
   "id": "59bf0ba6-f615-44bc-bfe5-01dc082f00c7",
   "metadata": {},
   "outputs": [],
   "source": [
    "p_values = pd.Series(chi_scores[1],index = X.columns)\n",
    "p_values.sort_values(ascending = False , inplace = True)"
   ]
  },
  {
   "cell_type": "code",
   "execution_count": 59,
   "id": "2c9bad34-b876-45d6-8901-3e3dc91b564f",
   "metadata": {},
   "outputs": [
    {
     "data": {
      "text/plain": [
       "<AxesSubplot:>"
      ]
     },
     "execution_count": 59,
     "metadata": {},
     "output_type": "execute_result"
    },
    {
     "data": {
      "image/png": "[encoded data removed]",
      "text/plain": [
       "<Figure size 432x288 with 1 Axes>"
      ]
     },
     "metadata": {
      "needs_background": "light"
     },
     "output_type": "display_data"
    }
   ],
   "source": [
    "p_values.plot.bar()"
   ]
  },
  {
   "cell_type": "markdown",
   "id": "c15ed552-b76c-4027-a7ea-d4ae8870611a",
   "metadata": {},
   "source": [
    "### Since region and sex have higher p-value, it says that this variables is independent of the repsone and can not be considered for model training"
   ]
  },
  {
   "cell_type": "code",
   "execution_count": 60,
   "id": "5b4ace4a-f2da-443d-bca4-4a1174700bce",
   "metadata": {},
   "outputs": [],
   "source": [
    "X = df.drop(['region','sex','insuranceclaim'],axis=1)\n",
    "Y = df['insuranceclaim']"
   ]
  },
  {
   "cell_type": "code",
   "execution_count": 62,
   "id": "dd675947-56a8-4e93-817b-91e3a0cbd710",
   "metadata": {},
   "outputs": [],
   "source": [
    "#X.head()"
   ]
  },
  {
   "cell_type": "markdown",
   "id": "836a8a6c-e9a1-4602-bee1-e14e98858573",
   "metadata": {},
   "source": [
    "### Logistic Regression"
   ]
  },
  {
   "cell_type": "code",
   "execution_count": 63,
   "id": "cc34d2f0-39a9-4230-90b5-54918dfaaf93",
   "metadata": {},
   "outputs": [
    {
     "data": {
      "text/plain": [
       "LogisticRegression(max_iter=300, random_state=0)"
      ]
     },
     "execution_count": 63,
     "metadata": {},
     "output_type": "execute_result"
    }
   ],
   "source": [
    "from sklearn.linear_model import LogisticRegression\n",
    "X_train, X_test, Y_train, Y_test = train_test_split(X, Y, random_state=0)\n",
    "classifier = LogisticRegression(solver='lbfgs',random_state=0, max_iter=300)\n",
    "classifier.fit(X_train, Y_train)"
   ]
  },
  {
   "cell_type": "code",
   "execution_count": 64,
   "id": "307f2d12-8585-4349-8ad7-4bb3cf5c7c39",
   "metadata": {},
   "outputs": [],
   "source": [
    "Y_pred = classifier.predict(X_test)\n",
    "LR = scores(Y_test, Y_pred)"
   ]
  },
  {
   "cell_type": "code",
   "execution_count": 65,
   "id": "8913d22a-6a52-4e92-9c8c-710be0737490",
   "metadata": {},
   "outputs": [
    {
     "data": {
      "text/plain": [
       "{'Precision': 0.8492462311557789,\n",
       " 'Recall': 0.9086021505376344,\n",
       " 'F1 Score': 0.8779220779220779,\n",
       " 'Accuracy': 0.8597014925373134}"
      ]
     },
     "execution_count": 65,
     "metadata": {},
     "output_type": "execute_result"
    }
   ],
   "source": [
    "LR"
   ]
  },
  {
   "cell_type": "markdown",
   "id": "cc089e16-8325-40a6-b3de-6ba53eade301",
   "metadata": {},
   "source": [
    "### Random Forest"
   ]
  },
  {
   "cell_type": "code",
   "execution_count": 66,
   "id": "44030434-3332-41b9-a1c4-a80f6739ec2a",
   "metadata": {},
   "outputs": [
    {
     "data": {
      "text/plain": [
       "RandomForestClassifier(random_state=0)"
      ]
     },
     "execution_count": 66,
     "metadata": {},
     "output_type": "execute_result"
    }
   ],
   "source": [
    "from sklearn.ensemble import RandomForestClassifier\n",
    "model = RandomForestClassifier(n_estimators=100, random_state = 0)\n",
    "model.fit(X_train, Y_train)"
   ]
  },
  {
   "cell_type": "code",
   "execution_count": 67,
   "id": "e1be4fe8-9d5c-408e-9f8f-a13b84fa5580",
   "metadata": {},
   "outputs": [],
   "source": [
    "Y_pred = model.predict(X_test)\n",
    "RF = scores(Y_test, Y_pred)"
   ]
  },
  {
   "cell_type": "code",
   "execution_count": 68,
   "id": "2da0fa49-5545-41b5-97eb-3051dcafec96",
   "metadata": {},
   "outputs": [
    {
     "data": {
      "text/plain": [
       "{'Precision': 0.9893048128342246,\n",
       " 'Recall': 0.9946236559139785,\n",
       " 'F1 Score': 0.9919571045576406,\n",
       " 'Accuracy': 0.991044776119403}"
      ]
     },
     "execution_count": 68,
     "metadata": {},
     "output_type": "execute_result"
    }
   ],
   "source": [
    "RF"
   ]
  },
  {
   "cell_type": "markdown",
   "id": "b451c61b-94f7-46c4-bb83-627ec2684a8b",
   "metadata": {},
   "source": [
    "### Decision Tree"
   ]
  },
  {
   "cell_type": "code",
   "execution_count": 69,
   "id": "261e3ce9-73b4-4b84-bacc-16fa46c1d213",
   "metadata": {},
   "outputs": [
    {
     "data": {
      "text/plain": [
       "DecisionTreeClassifier(random_state=0)"
      ]
     },
     "execution_count": 69,
     "metadata": {},
     "output_type": "execute_result"
    }
   ],
   "source": [
    "from sklearn.tree import DecisionTreeClassifier\n",
    "model = DecisionTreeClassifier(random_state = 0)\n",
    "model.fit(X_train, Y_train)"
   ]
  },
  {
   "cell_type": "code",
   "execution_count": 70,
   "id": "a8594c9e-d6bd-4280-939b-926617e21a30",
   "metadata": {},
   "outputs": [],
   "source": [
    "Y_pred = model.predict(X_test)\n",
    "DT = scores(Y_test, Y_pred)"
   ]
  },
  {
   "cell_type": "code",
   "execution_count": 71,
   "id": "37076902-7cfb-488e-b73d-82ce2ddea4cf",
   "metadata": {},
   "outputs": [
    {
     "data": {
      "text/plain": [
       "{'Precision': 0.9946524064171123,\n",
       " 'Recall': 1.0,\n",
       " 'F1 Score': 0.9973190348525469,\n",
       " 'Accuracy': 0.9970149253731343}"
      ]
     },
     "execution_count": 71,
     "metadata": {},
     "output_type": "execute_result"
    }
   ],
   "source": [
    "DT"
   ]
  },
  {
   "cell_type": "markdown",
   "id": "4374eb31-26a5-4c0a-98e2-c2f43fce877a",
   "metadata": {},
   "source": [
    "### Support Vector Machine"
   ]
  },
  {
   "cell_type": "code",
   "execution_count": 72,
   "id": "92768b37-e3a5-4dce-957e-96965d4d63e2",
   "metadata": {},
   "outputs": [
    {
     "data": {
      "text/plain": [
       "SVC()"
      ]
     },
     "execution_count": 72,
     "metadata": {},
     "output_type": "execute_result"
    }
   ],
   "source": [
    "from sklearn.svm import SVC\n",
    "clf = SVC(kernel='rbf')\n",
    "clf.fit(X_train, Y_train)"
   ]
  },
  {
   "cell_type": "code",
   "execution_count": 73,
   "id": "9160be41-2242-4a0d-9306-be28c0258e92",
   "metadata": {},
   "outputs": [],
   "source": [
    "Y_pred = clf.predict(X_test)\n",
    "SV = scores(Y_test, Y_pred)"
   ]
  },
  {
   "cell_type": "code",
   "execution_count": 74,
   "id": "35c37190-b719-4662-a334-df19820f8c77",
   "metadata": {},
   "outputs": [
    {
     "data": {
      "text/plain": [
       "{'Precision': 0.6835443037974683,\n",
       " 'Recall': 0.8709677419354839,\n",
       " 'F1 Score': 0.7659574468085106,\n",
       " 'Accuracy': 0.7044776119402985}"
      ]
     },
     "execution_count": 74,
     "metadata": {},
     "output_type": "execute_result"
    }
   ],
   "source": [
    "SV"
   ]
  },
  {
   "cell_type": "markdown",
   "id": "fe25dd23-5878-4a51-8c51-8703ce92f374",
   "metadata": {},
   "source": [
    "### Gaussian NB"
   ]
  },
  {
   "cell_type": "code",
   "execution_count": 75,
   "id": "5f95f75e-4541-49ab-be95-bcf9194816e7",
   "metadata": {},
   "outputs": [
    {
     "data": {
      "text/plain": [
       "GaussianNB()"
      ]
     },
     "execution_count": 75,
     "metadata": {},
     "output_type": "execute_result"
    }
   ],
   "source": [
    "from sklearn.naive_bayes import GaussianNB\n",
    "clf = GaussianNB()\n",
    "clf.fit(X_train, Y_train)"
   ]
  },
  {
   "cell_type": "code",
   "execution_count": 76,
   "id": "5a835099-cbf3-4086-a66c-c273e12a4861",
   "metadata": {},
   "outputs": [],
   "source": [
    "Y_pred = clf.predict(X_test)\n",
    "GNB = scores(Y_test, Y_pred)"
   ]
  },
  {
   "cell_type": "markdown",
   "id": "6026e727-225b-418f-85f7-cbd208880d33",
   "metadata": {},
   "source": [
    "### Bernoulli NB"
   ]
  },
  {
   "cell_type": "code",
   "execution_count": 77,
   "id": "7019bf8f-df67-4fe3-8b89-a4f44d50127b",
   "metadata": {},
   "outputs": [
    {
     "data": {
      "text/plain": [
       "BernoulliNB()"
      ]
     },
     "execution_count": 77,
     "metadata": {},
     "output_type": "execute_result"
    }
   ],
   "source": [
    "from sklearn.naive_bayes import BernoulliNB\n",
    "clf = BernoulliNB()\n",
    "clf.fit(X_train, Y_train)"
   ]
  },
  {
   "cell_type": "code",
   "execution_count": 78,
   "id": "e33eadfc-0742-40fb-84c7-3889cc3453c5",
   "metadata": {},
   "outputs": [],
   "source": [
    "Y_pred = clf.predict(X_test)\n",
    "BNB = scores(Y_test, Y_pred)"
   ]
  },
  {
   "cell_type": "markdown",
   "id": "281e81d1-518b-4e7d-b43c-50166967c06f",
   "metadata": {},
   "source": [
    "### Mixed Naive Bayes"
   ]
  },
  {
   "cell_type": "code",
   "execution_count": 79,
   "id": "fa136904-8b08-4490-9dd4-0c06ac181504",
   "metadata": {},
   "outputs": [
    {
     "name": "stdout",
     "output_type": "stream",
     "text": [
      "[]\n"
     ]
    },
    {
     "data": {
      "text/plain": [
       "MixedNB(alpha=0.5, var_smoothing=1e-09)"
      ]
     },
     "execution_count": 79,
     "metadata": {},
     "output_type": "execute_result"
    }
   ],
   "source": [
    "from mixed_naive_bayes import MixedNB\n",
    "clf = MixedNB()\n",
    "clf.fit(X_train, Y_train)"
   ]
  },
  {
   "cell_type": "code",
   "execution_count": 80,
   "id": "24b6e8c9-4403-4d9a-a1f5-b0a8813633ea",
   "metadata": {},
   "outputs": [],
   "source": [
    "Y_pred = clf.predict(X_test)\n",
    "MNB = scores(Y_test, Y_pred)"
   ]
  },
  {
   "cell_type": "markdown",
   "id": "5bfefd51-0a7e-4df3-aef2-b2cba8cd8213",
   "metadata": {},
   "source": [
    "### K-Nearest Neighbors"
   ]
  },
  {
   "cell_type": "code",
   "execution_count": 81,
   "id": "8b53a997-d821-4361-a78e-ad1e6e8d2246",
   "metadata": {},
   "outputs": [
    {
     "data": {
      "text/plain": [
       "KNeighborsClassifier(p=1)"
      ]
     },
     "execution_count": 81,
     "metadata": {},
     "output_type": "execute_result"
    }
   ],
   "source": [
    "from sklearn.neighbors import KNeighborsClassifier\n",
    "clf = KNeighborsClassifier(p=1,  n_neighbors= 5)\n",
    "clf.fit(X_train, Y_train)"
   ]
  },
  {
   "cell_type": "code",
   "execution_count": 82,
   "id": "efff23c0-abda-48c3-acc6-b68c5bcaec94",
   "metadata": {},
   "outputs": [],
   "source": [
    "Y_pred = clf.predict(X_test)\n",
    "KNN = scores(Y_test, Y_pred)"
   ]
  },
  {
   "cell_type": "code",
   "execution_count": 83,
   "id": "cdfab36e-85c0-4e34-87d7-063b26820b1b",
   "metadata": {},
   "outputs": [],
   "source": [
    "results = pd.DataFrame(index = ind, columns = Columns)"
   ]
  },
  {
   "cell_type": "code",
   "execution_count": 84,
   "id": "393306e7-f6a7-4339-b1e5-b4575c7026e2",
   "metadata": {},
   "outputs": [],
   "source": [
    "results['Logistic Regression'] = LR.values()\n",
    "results['Random Forest'] = RF.values()\n",
    "results['Decision Tree'] = DT.values()\n",
    "results['SVM'] = SV.values()\n",
    "results['Gaussian NB'] = GNB.values()\n",
    "results['Bernoulli NB'] = BNB.values()\n",
    "results['Mixed NB'] = MNB.values()\n",
    "results['K-Nearest Neighbor'] = KNN.values()"
   ]
  },
  {
   "cell_type": "code",
   "execution_count": 85,
   "id": "66c00837-051f-4c57-8a54-076c30d5aa6c",
   "metadata": {},
   "outputs": [
    {
     "data": {
      "text/html": [
       "<div>\n",
       "<style scoped>\n",
       "    .dataframe tbody tr th:only-of-type {\n",
       "        vertical-align: middle;\n",
       "    }\n",
       "\n",
       "    .dataframe tbody tr th {\n",
       "        vertical-align: top;\n",
       "    }\n",
       "\n",
       "    .dataframe thead th {\n",
       "        text-align: right;\n",
       "    }\n",
       "</style>\n",
       "<table border=\"1\" class=\"dataframe\">\n",
       "  <thead>\n",
       "    <tr style=\"text-align: right;\">\n",
       "      <th></th>\n",
       "      <th>Logistic Regression</th>\n",
       "      <th>Random Forest</th>\n",
       "      <th>Decision Tree</th>\n",
       "      <th>SVM</th>\n",
       "      <th>Gaussian NB</th>\n",
       "      <th>Bernoulli NB</th>\n",
       "      <th>Mixed NB</th>\n",
       "      <th>K-Nearest Neighbor</th>\n",
       "    </tr>\n",
       "  </thead>\n",
       "  <tbody>\n",
       "    <tr>\n",
       "      <th>Precision</th>\n",
       "      <td>0.849246</td>\n",
       "      <td>0.989305</td>\n",
       "      <td>0.994652</td>\n",
       "      <td>0.683544</td>\n",
       "      <td>0.864865</td>\n",
       "      <td>0.809249</td>\n",
       "      <td>0.864865</td>\n",
       "      <td>0.691589</td>\n",
       "    </tr>\n",
       "    <tr>\n",
       "      <th>Recall</th>\n",
       "      <td>0.908602</td>\n",
       "      <td>0.994624</td>\n",
       "      <td>1.000000</td>\n",
       "      <td>0.870968</td>\n",
       "      <td>0.860215</td>\n",
       "      <td>0.752688</td>\n",
       "      <td>0.860215</td>\n",
       "      <td>0.795699</td>\n",
       "    </tr>\n",
       "    <tr>\n",
       "      <th>F1 Score</th>\n",
       "      <td>0.877922</td>\n",
       "      <td>0.991957</td>\n",
       "      <td>0.997319</td>\n",
       "      <td>0.765957</td>\n",
       "      <td>0.862534</td>\n",
       "      <td>0.779944</td>\n",
       "      <td>0.862534</td>\n",
       "      <td>0.740000</td>\n",
       "    </tr>\n",
       "    <tr>\n",
       "      <th>Accuracy</th>\n",
       "      <td>0.859701</td>\n",
       "      <td>0.991045</td>\n",
       "      <td>0.997015</td>\n",
       "      <td>0.704478</td>\n",
       "      <td>0.847761</td>\n",
       "      <td>0.764179</td>\n",
       "      <td>0.847761</td>\n",
       "      <td>0.689552</td>\n",
       "    </tr>\n",
       "  </tbody>\n",
       "</table>\n",
       "</div>"
      ],
      "text/plain": [
       "           Logistic Regression  Random Forest  Decision Tree       SVM  \\\n",
       "Precision             0.849246       0.989305       0.994652  0.683544   \n",
       "Recall                0.908602       0.994624       1.000000  0.870968   \n",
       "F1 Score              0.877922       0.991957       0.997319  0.765957   \n",
       "Accuracy              0.859701       0.991045       0.997015  0.704478   \n",
       "\n",
       "           Gaussian NB  Bernoulli NB  Mixed NB  K-Nearest Neighbor  \n",
       "Precision     0.864865      0.809249  0.864865            0.691589  \n",
       "Recall        0.860215      0.752688  0.860215            0.795699  \n",
       "F1 Score      0.862534      0.779944  0.862534            0.740000  \n",
       "Accuracy      0.847761      0.764179  0.847761            0.689552  "
      ]
     },
     "execution_count": 85,
     "metadata": {},
     "output_type": "execute_result"
    }
   ],
   "source": [
    "results"
   ]
  },
  {
   "cell_type": "code",
   "execution_count": 86,
   "id": "f7f7d2f6-9b99-4966-aece-936a4d5c5ceb",
   "metadata": {},
   "outputs": [
    {
     "data": {
      "text/html": [
       "<div>\n",
       "<style scoped>\n",
       "    .dataframe tbody tr th:only-of-type {\n",
       "        vertical-align: middle;\n",
       "    }\n",
       "\n",
       "    .dataframe tbody tr th {\n",
       "        vertical-align: top;\n",
       "    }\n",
       "\n",
       "    .dataframe thead th {\n",
       "        text-align: right;\n",
       "    }\n",
       "</style>\n",
       "<table border=\"1\" class=\"dataframe\">\n",
       "  <thead>\n",
       "    <tr style=\"text-align: right;\">\n",
       "      <th></th>\n",
       "      <th>Logistic Regression</th>\n",
       "      <th>Random Forest</th>\n",
       "      <th>Decision Tree</th>\n",
       "      <th>SVM</th>\n",
       "      <th>Gaussian NB</th>\n",
       "      <th>Bernoulli NB</th>\n",
       "      <th>Mixed NB</th>\n",
       "      <th>K-Nearest Neighbor</th>\n",
       "    </tr>\n",
       "  </thead>\n",
       "  <tbody>\n",
       "    <tr>\n",
       "      <th>Precision</th>\n",
       "      <td>0.852041</td>\n",
       "      <td>0.984043</td>\n",
       "      <td>0.994652</td>\n",
       "      <td>0.683544</td>\n",
       "      <td>0.864865</td>\n",
       "      <td>0.809249</td>\n",
       "      <td>0.864865</td>\n",
       "      <td>0.685185</td>\n",
       "    </tr>\n",
       "    <tr>\n",
       "      <th>Recall</th>\n",
       "      <td>0.897849</td>\n",
       "      <td>0.994624</td>\n",
       "      <td>1.000000</td>\n",
       "      <td>0.870968</td>\n",
       "      <td>0.860215</td>\n",
       "      <td>0.752688</td>\n",
       "      <td>0.860215</td>\n",
       "      <td>0.795699</td>\n",
       "    </tr>\n",
       "    <tr>\n",
       "      <th>F1 Score</th>\n",
       "      <td>0.874346</td>\n",
       "      <td>0.989305</td>\n",
       "      <td>0.997319</td>\n",
       "      <td>0.765957</td>\n",
       "      <td>0.862534</td>\n",
       "      <td>0.779944</td>\n",
       "      <td>0.862534</td>\n",
       "      <td>0.736318</td>\n",
       "    </tr>\n",
       "    <tr>\n",
       "      <th>Accuracy</th>\n",
       "      <td>0.856716</td>\n",
       "      <td>0.988060</td>\n",
       "      <td>0.997015</td>\n",
       "      <td>0.704478</td>\n",
       "      <td>0.847761</td>\n",
       "      <td>0.764179</td>\n",
       "      <td>0.847761</td>\n",
       "      <td>0.683582</td>\n",
       "    </tr>\n",
       "  </tbody>\n",
       "</table>\n",
       "</div>"
      ],
      "text/plain": [
       "           Logistic Regression  Random Forest  Decision Tree       SVM  \\\n",
       "Precision             0.852041       0.984043       0.994652  0.683544   \n",
       "Recall                0.897849       0.994624       1.000000  0.870968   \n",
       "F1 Score              0.874346       0.989305       0.997319  0.765957   \n",
       "Accuracy              0.856716       0.988060       0.997015  0.704478   \n",
       "\n",
       "           Gaussian NB  Bernoulli NB  Mixed NB  K-Nearest Neighbor  \n",
       "Precision     0.864865      0.809249  0.864865            0.685185  \n",
       "Recall        0.860215      0.752688  0.860215            0.795699  \n",
       "F1 Score      0.862534      0.779944  0.862534            0.736318  \n",
       "Accuracy      0.847761      0.764179  0.847761            0.683582  "
      ]
     },
     "execution_count": 86,
     "metadata": {},
     "output_type": "execute_result"
    }
   ],
   "source": [
    "results1"
   ]
  },
  {
   "cell_type": "code",
   "execution_count": null,
   "id": "586ae4ed-7ef9-4dcd-801a-ec2fe0d769ef",
   "metadata": {},
   "outputs": [],
   "source": []
  },
  {
   "cell_type": "code",
   "execution_count": null,
   "id": "18139d59-cf1f-480c-9be4-45e7d1969f34",
   "metadata": {},
   "outputs": [],
   "source": []
  },
  {
   "cell_type": "markdown",
   "id": "340549ef-8b82-45bc-8c33-98738094c436",
   "metadata": {},
   "source": []
  }
 ],
 "metadata": {
  "kernelspec": {
   "display_name": "Python 3",
   "language": "python",
   "name": "python3"
  },
  "language_info": {
   "codemirror_mode": {
    "name": "ipython",
    "version": 3
   },
   "file_extension": ".py",
   "mimetype": "text/x-python",
   "name": "python",
   "nbconvert_exporter": "python",
   "pygments_lexer": "ipython3",
   "version": "3.9.1"
  }
 },
 "nbformat": 4,
 "nbformat_minor": 5
}
